{
  "cells": [
    {
      "cell_type": "markdown",
      "metadata": {
        "id": "view-in-github",
        "colab_type": "text"
      },
      "source": [
        "<a href=\"https://colab.research.google.com/github/HiGiangcoder/AI/blob/main/OOP_Practice.ipynb\" target=\"_parent\"><img src=\"https://colab.research.google.com/assets/colab-badge.svg\" alt=\"Open In Colab\"/></a>"
      ]
    },
    {
      "cell_type": "markdown",
      "id": "d1165656",
      "metadata": {
        "id": "d1165656"
      },
      "source": [
        "# Thực hành Lập trình Hướng đối tượng (OOP) với Python"
      ]
    },
    {
      "cell_type": "markdown",
      "id": "a39654cf",
      "metadata": {
        "id": "a39654cf"
      },
      "source": [
        "### Giới thiệu\n",
        "Trong notebook này, bạn sẽ thực hành các khái niệm cơ bản về lập trình hướng đối tượng (OOP) trong Python, bao gồm:\n",
        "- Lớp và đối tượng\n",
        "- Thuộc tính và phương thức\n",
        "- Kế thừa\n",
        "- Đa hình\n",
        "- Trừu tượng\n",
        "- Đóng gói dữ liệu\n",
        "\n",
        "Hãy thực hiện các bài tập theo từng phần dưới đây. Lưu ý hãy tự code trước khi xem code mẫu."
      ]
    },
    {
      "cell_type": "markdown",
      "id": "da1c1e02",
      "metadata": {
        "id": "da1c1e02"
      },
      "source": [
        "# 0. Lý thuyết\n",
        "### Các tính chất của Lập trình Hướng đối tượng (OOP)\n",
        "\n",
        "1. **Đóng gói (Encapsulation):**\n",
        "   - Đóng gói là việc gói gọn dữ liệu và các phương thức thao tác trên dữ liệu đó vào trong một đối tượng. Điều này giúp bảo vệ dữ liệu khỏi sự truy cập và thay đổi từ bên ngoài, chỉ cho phép truy cập thông qua các phương thức được định nghĩa.\n",
        "   - Ví dụ: Sử dụng các thuộc tính riêng tư (private) và các phương thức getter, setter để truy cập và thay đổi giá trị của thuộc tính.\n",
        "\n",
        "2. **Kế thừa (Inheritance):**\n",
        "   - Kế thừa cho phép một lớp con (subclass) kế thừa các thuộc tính và phương thức từ một lớp cha (superclass). Điều này giúp tái sử dụng mã nguồn và tạo ra các mối quan hệ phân cấp giữa các lớp.\n",
        "   - Ví dụ: Lớp `Student` kế thừa từ lớp `Person` và thêm thuộc tính `student_id`.\n",
        "\n",
        "3. **Đa hình (Polymorphism):**\n",
        "   - Đa hình cho phép các đối tượng thuộc các lớp khác nhau có thể được xử lý thông qua cùng một giao diện. Điều này có nghĩa là cùng một phương thức có thể có các hành vi khác nhau tùy thuộc vào đối tượng gọi nó.\n",
        "   - Ví dụ: Phương thức `introduce` có thể được ghi đè trong các lớp con để có hành vi khác nhau.\n",
        "\n",
        "4. **Trừu tượng (Abstraction):**\n",
        "   - Trừu tượng là việc ẩn đi các chi tiết triển khai cụ thể và chỉ hiển thị các tính năng cần thiết của đối tượng. Điều này giúp đơn giản hóa việc sử dụng đối tượng và tập trung vào các tính năng chính.\n",
        "   - Ví dụ: Sử dụng các lớp trừu tượng (abstract class) và các phương thức trừu tượng (abstract method) để định nghĩa các hành vi mà các lớp con phải triển khai."
      ]
    },
    {
      "cell_type": "markdown",
      "id": "29925e29",
      "metadata": {
        "id": "29925e29"
      },
      "source": [
        "# 1. Create simple class\n",
        "### Bài 1: Tạo một lớp đơn giản\n",
        "\n",
        "1. **Tạo lớp `Person`:**\n",
        "   - Tạo một lớp có tên là `Person`.\n",
        "   - Lớp này có hai thuộc tính: `name` (tên) và `age` (tuổi).\n",
        "\n",
        "2. **Viết phương thức `introduce`:**\n",
        "   - Viết một phương thức có tên là `introduce`.\n",
        "   - Phương thức này sẽ in ra lời giới thiệu bản thân của đối tượng, bao gồm tên và tuổi."
      ]
    },
    {
      "cell_type": "code",
      "execution_count": null,
      "id": "e62c1a83",
      "metadata": {
        "id": "e62c1a83",
        "outputId": "1f0ee3e8-5403-4e14-a677-237b9c693f2c"
      },
      "outputs": [
        {
          "name": "stdout",
          "output_type": "stream",
          "text": [
            "Xin chào, tôi tên là Nguyen Van A và tôi 25 tuổi.\n"
          ]
        }
      ],
      "source": [
        "# Bài 1: Tạo một lớp đơn giản\n",
        "# 1. Tạo một lớp tên là `Person` với các thuộc tính: tên (`name`) và tuổi (`age`).\n",
        "# 2. Viết một phương thức `introduce` để in ra lời giới thiệu bản thân của đối tượng.\n",
        "\n",
        "class Person:\n",
        "    def __init__(self, name, age):\n",
        "        self.name = name\n",
        "        self.age = age\n",
        "\n",
        "    def introduce(self):\n",
        "        print(f\"Xin chào, tôi tên là {self.name} và tôi {self.age} tuổi.\")\n",
        "\n",
        "# Tạo đối tượng và gọi phương thức\n",
        "person1 = Person(\"Nguyen Van A\", 25)\n",
        "person1.introduce()"
      ]
    },
    {
      "cell_type": "markdown",
      "id": "0fb36f91",
      "metadata": {
        "id": "0fb36f91"
      },
      "source": [
        "### Bài 2: Tạo một lớp đơn giản khác\n",
        "\n",
        "1. **Tạo lớp `Animal`:**\n",
        "   - Tạo một lớp có tên là `Animal`.\n",
        "   - Lớp này có hai thuộc tính: `species` (loài) và `age` (tuổi).\n",
        "\n",
        "2. **Viết phương thức `describe`:**\n",
        "   - Viết một phương thức có tên là `describe`.\n",
        "   - Phương thức này sẽ in ra mô tả về con vật, bao gồm loài và tuổi."
      ]
    },
    {
      "cell_type": "code",
      "execution_count": null,
      "id": "65c4c04f",
      "metadata": {
        "id": "65c4c04f",
        "outputId": "8a4698e7-44c6-4fa7-ec19-bfa378904a6b"
      },
      "outputs": [
        {
          "name": "stdout",
          "output_type": "stream",
          "text": [
            "Đây là một con chó và nó 3 tuổi.\n"
          ]
        }
      ],
      "source": [
        "class Animal:\n",
        "    def __init__(self, species, age):\n",
        "        self.species = species\n",
        "        self.age = age\n",
        "\n",
        "    def describe(self):\n",
        "        print(f\"Đây là một con {self.species} và nó {self.age} tuổi.\")\n",
        "\n",
        "# Tạo đối tượng và gọi phương thức\n",
        "animal1 = Animal(\"chó\", 3)\n",
        "animal1.describe()"
      ]
    },
    {
      "cell_type": "markdown",
      "id": "2a94eac0",
      "metadata": {
        "id": "2a94eac0"
      },
      "source": [
        "# 2. Inheritance (Kế thừa)"
      ]
    },
    {
      "cell_type": "markdown",
      "id": "44281b3f",
      "metadata": {
        "id": "44281b3f"
      },
      "source": [
        "### Bài 2.1: Kế thừa\n",
        "\n",
        "1. **Tạo lớp con `Student`:**\n",
        "   - Tạo một lớp con có tên là `Student` kế thừa từ lớp `Person`.\n",
        "\n",
        "2. **Thêm thuộc tính `student_id` và ghi đè phương thức `introduce`:**\n",
        "   - Thêm thuộc tính mới có tên là `student_id`.\n",
        "   - Ghi đè phương thức `introduce` để bao gồm mã sinh viên trong lời giới thiệu."
      ]
    },
    {
      "cell_type": "code",
      "execution_count": null,
      "id": "c3be6ac8",
      "metadata": {
        "id": "c3be6ac8",
        "outputId": "60dfe850-f359-4537-cf56-11583d372c0d"
      },
      "outputs": [
        {
          "name": "stdout",
          "output_type": "stream",
          "text": [
            "Xin chào, tôi tên là Le Thi B, tôi 20 tuổi và mã sinh viên của tôi là SV12345.\n"
          ]
        }
      ],
      "source": [
        "# Bài 2: Kế thừa\n",
        "# 1. Tạo một lớp con tên là `Student` kế thừa từ lớp `Person`.\n",
        "# 2. Thêm thuộc tính mới `student_id` và ghi đè phương thức `introduce` để bao gồm mã sinh viên.\n",
        "\n",
        "class Student(Person):\n",
        "    def __init__(self, name, age, student_id):\n",
        "        super().__init__(name, age)\n",
        "        self.student_id = student_id\n",
        "\n",
        "    def introduce(self):\n",
        "        print(f\"Xin chào, tôi tên là {self.name}, tôi {self.age} tuổi và mã sinh viên của tôi là {self.student_id}.\")\n",
        "\n",
        "# Tạo đối tượng và gọi phương thức\n",
        "student1 = Student(\"Le Thi B\", 20, \"SV12345\")\n",
        "student1.introduce()"
      ]
    },
    {
      "cell_type": "markdown",
      "id": "f788a5f6",
      "metadata": {
        "id": "f788a5f6"
      },
      "source": [
        "### Bài 2.2: Nâng cao\n",
        "\n",
        "1. **Tạo lớp con `Student`:**\n",
        "   - Tạo một lớp con có tên là `Student` kế thừa từ lớp `Person`.\n",
        "\n",
        "2. **Thêm thuộc tính `student_id` và ghi đè phương thức `introduce`:**\n",
        "   - Thêm thuộc tính mới có tên là `student_id`.\n",
        "   - Ghi đè phương thức `introduce` để bao gồm mã sinh viên trong lời giới thiệu.\n",
        "\n",
        "3. **Bài tập nâng cao:**\n",
        "   - Tạo thêm một lớp con `GraduateStudent` kế thừa từ lớp `Student` với thuộc tính `thesis_title` (tên luận văn).\n",
        "   - Ghi đè phương thức `introduce` trong lớp `GraduateStudent` để bao gồm thông tin về tên luận văn.\n",
        "   - Tạo một danh sách các đối tượng `Person`, `Student`, và `GraduateStudent`, sau đó gọi phương thức `introduce` của từng đối tượng trong danh sách."
      ]
    },
    {
      "cell_type": "code",
      "execution_count": null,
      "id": "aa6f6af1",
      "metadata": {
        "id": "aa6f6af1",
        "outputId": "499b8938-55aa-4f12-ff60-6c8b1b70a1c6"
      },
      "outputs": [
        {
          "name": "stdout",
          "output_type": "stream",
          "text": [
            "Xin chào, tôi tên là Nguyen Van A và tôi 25 tuổi.\n",
            "Xin chào, tôi tên là Le Thi B, tôi 20 tuổi và mã sinh viên của tôi là SV123.\n",
            "Xin chào, tôi tên là Tran Van C, tôi 30 tuổi, mã sinh viên của tôi là SV456, và tên luận văn của tôi là 'Nghiên cứu về AI'.\n"
          ]
        }
      ],
      "source": [
        "class Person:\n",
        "    def __init__(self, name, age):\n",
        "        self.name = name\n",
        "        self.age = age\n",
        "\n",
        "    def introduce(self):\n",
        "        print(f\"Xin chào, tôi tên là {self.name} và tôi {self.age} tuổi.\")\n",
        "\n",
        "class Student(Person):\n",
        "    def __init__(self, name, age, student_id):\n",
        "        super().__init__(name, age)\n",
        "        self.student_id = student_id\n",
        "\n",
        "    def introduce(self):\n",
        "        print(f\"Xin chào, tôi tên là {self.name}, tôi {self.age} tuổi và mã sinh viên của tôi là {self.student_id}.\")\n",
        "\n",
        "class GraduateStudent(Student):\n",
        "    def __init__(self, name, age, student_id, thesis_title):\n",
        "        super().__init__(name, age, student_id)\n",
        "        self.thesis_title = thesis_title\n",
        "\n",
        "    def introduce(self):\n",
        "        print(f\"Xin chào, tôi tên là {self.name}, tôi {self.age} tuổi, mã sinh viên của tôi là {self.student_id}, và tên luận văn của tôi là '{self.thesis_title}'.\")\n",
        "\n",
        "def introduce_people(people):\n",
        "    for person in people:\n",
        "        person.introduce()\n",
        "\n",
        "# Tạo danh sách các đối tượng Person, Student và GraduateStudent\n",
        "people = [\n",
        "    Person(\"Nguyen Van A\", 25),\n",
        "    Student(\"Le Thi B\", 20, \"SV123\"),\n",
        "    GraduateStudent(\"Tran Van C\", 30, \"SV456\", \"Nghiên cứu về AI\")\n",
        "]\n",
        "\n",
        "# Gọi hàm introduce_people\n",
        "introduce_people(people)"
      ]
    },
    {
      "cell_type": "markdown",
      "id": "8f939ba6",
      "metadata": {
        "id": "8f939ba6"
      },
      "source": [
        "# 3. Polymorphism (Đa hình)"
      ]
    },
    {
      "cell_type": "markdown",
      "id": "a6d87a0b",
      "metadata": {
        "id": "a6d87a0b"
      },
      "source": [
        "### Bài 3.1: Đa hình\n",
        "\n",
        "1. **Viết hàm sử dụng đa hình:**\n",
        "   - Viết một hàm nhận vào một danh sách các đối tượng `Person`.\n",
        "   - Hàm này sẽ gọi phương thức `introduce` của từng đối tượng trong danh sách."
      ]
    },
    {
      "cell_type": "code",
      "execution_count": null,
      "id": "8c23a42f",
      "metadata": {
        "id": "8c23a42f",
        "outputId": "ff21bea0-416d-4ce4-a73c-e796e41d938a"
      },
      "outputs": [
        {
          "name": "stdout",
          "output_type": "stream",
          "text": [
            "Xin chào, tôi tên là Nguyen Van C và tôi 30 tuổi.\n",
            "Xin chào, tôi tên là Tran Van D, tôi 22 tuổi và mã sinh viên của tôi là SV54321.\n"
          ]
        }
      ],
      "source": [
        "# Bài 3: Đa hình\n",
        "# Viết một hàm nhận vào một danh sách các đối tượng `Person` và gọi phương thức `introduce` của chúng.\n",
        "\n",
        "def introduce_all(people):\n",
        "    for person in people:\n",
        "        person.introduce()\n",
        "\n",
        "# Tạo danh sách các đối tượng Person và Student\n",
        "people = [\n",
        "    Person(\"Nguyen Van C\", 30),\n",
        "    Student(\"Tran Van D\", 22, \"SV54321\")\n",
        "]\n",
        "\n",
        "introduce_all(people)"
      ]
    },
    {
      "cell_type": "markdown",
      "id": "b0518b1b",
      "metadata": {
        "id": "b0518b1b"
      },
      "source": [
        "### Bài 3.2: **Bài tập nâng cao:**\n",
        "   - Tạo thêm một lớp con `Teacher` kế thừa từ lớp `Person` với thuộc tính `subject` (môn học).\n",
        "   - Ghi đè phương thức `introduce` trong lớp `Teacher` để bao gồm thông tin về môn học.\n",
        "   - Viết một hàm nhận vào một danh sách các đối tượng `Person` và `Teacher`, sau đó gọi phương thức `introduce` của từng đối tượng trong danh sách."
      ]
    },
    {
      "cell_type": "code",
      "execution_count": null,
      "id": "b5042008",
      "metadata": {
        "id": "b5042008",
        "outputId": "8a406df5-de56-46fa-d08e-8b99779b6cc5"
      },
      "outputs": [
        {
          "name": "stdout",
          "output_type": "stream",
          "text": [
            "Xin chào, tôi tên là Nguyen Van A và tôi 25 tuổi.\n",
            "Xin chào, tôi tên là Le Thi B, tôi 20 tuổi và mã sinh viên của tôi là SV123.\n",
            "Xin chào, tôi tên là Tran Van C, tôi 40 tuổi và tôi dạy môn Toán.\n"
          ]
        }
      ],
      "source": [
        "class Person:\n",
        "    def __init__(self, name, age):\n",
        "        self.name = name\n",
        "        self.age = age\n",
        "\n",
        "    def introduce(self):\n",
        "        print(f\"Xin chào, tôi tên là {self.name} và tôi {self.age} tuổi.\")\n",
        "\n",
        "class Student(Person):\n",
        "    def __init__(self, name, age, student_id):\n",
        "        super().__init__(name, age)\n",
        "        self.student_id = student_id\n",
        "\n",
        "    def introduce(self):\n",
        "        print(f\"Xin chào, tôi tên là {self.name}, tôi {self.age} tuổi và mã sinh viên của tôi là {self.student_id}.\")\n",
        "\n",
        "class Teacher(Person):\n",
        "    def __init__(self, name, age, subject):\n",
        "        super().__init__(name, age)\n",
        "        self.subject = subject\n",
        "\n",
        "    def introduce(self):\n",
        "        print(f\"Xin chào, tôi tên là {self.name}, tôi {self.age} tuổi và tôi dạy môn {self.subject}.\")\n",
        "\n",
        "def introduce_people(people):\n",
        "    for person in people:\n",
        "        person.introduce()\n",
        "\n",
        "# Tạo danh sách các đối tượng Person, Student và Teacher\n",
        "people = [\n",
        "    Person(\"Nguyen Van A\", 25),\n",
        "    Student(\"Le Thi B\", 20, \"SV123\"),\n",
        "    Teacher(\"Tran Van C\", 40, \"Toán\")\n",
        "]\n",
        "\n",
        "# Gọi hàm introduce_people\n",
        "introduce_people(people)"
      ]
    },
    {
      "cell_type": "markdown",
      "id": "a4a07ad1",
      "metadata": {
        "id": "a4a07ad1"
      },
      "source": [
        "# 4. Encapsulation (Đóng gói)"
      ]
    },
    {
      "cell_type": "markdown",
      "id": "b7e33db1",
      "metadata": {
        "id": "b7e33db1"
      },
      "source": [
        "### Bài 4.1: Đóng gói dữ liệu\n",
        "\n",
        "1. **Thêm thuộc tính riêng tư `_password`:**\n",
        "   - Thêm thuộc tính riêng tư có tên là `_password` vào lớp `Person`.\n",
        "\n",
        "2. **Viết các phương thức getter và setter:**\n",
        "   - Viết phương thức getter để truy cập giá trị của thuộc tính `_password`.\n",
        "   - Viết phương thức setter để thay đổi giá trị của thuộc tính `_password`."
      ]
    },
    {
      "cell_type": "code",
      "execution_count": null,
      "id": "51533153",
      "metadata": {
        "id": "51533153",
        "outputId": "5b188638-eb45-4828-dca2-53fbf5c6608e"
      },
      "outputs": [
        {
          "name": "stdout",
          "output_type": "stream",
          "text": [
            "Mật khẩu ban đầu: mypassword\n",
            "Mật khẩu sau khi thay đổi: newpassword\n"
          ]
        }
      ],
      "source": [
        "# Bài 4: Đóng gói dữ liệu\n",
        "# 1. Thêm thuộc tính riêng tư `_password` vào lớp `Person`.\n",
        "# 2. Viết các phương thức getter và setter để truy cập và thay đổi giá trị của thuộc tính này.\n",
        "\n",
        "class PersonWithPrivate:\n",
        "    def __init__(self, name, age, password):\n",
        "        self.name = name\n",
        "        self.age = age\n",
        "        self._password = password\n",
        "\n",
        "    def get_password(self):\n",
        "        return self._password\n",
        "\n",
        "    def set_password(self, new_password):\n",
        "        self._password = new_password\n",
        "\n",
        "# Tạo đối tượng và thử sử dụng getter và setter\n",
        "person2 = PersonWithPrivate(\"Pham Thi E\", 28, \"mypassword\")\n",
        "print(\"Mật khẩu ban đầu:\", person2.get_password())\n",
        "person2.set_password(\"newpassword\")\n",
        "print(\"Mật khẩu sau khi thay đổi:\", person2.get_password())"
      ]
    },
    {
      "cell_type": "markdown",
      "id": "0670752b",
      "metadata": {
        "id": "0670752b"
      },
      "source": [
        "### Bài 4.2: Đóng gói dữ liệu\n",
        "\n",
        "1. **Thêm thuộc tính riêng tư `_password`:**\n",
        "   - Thêm thuộc tính riêng tư có tên là `_password` vào lớp `Person`.\n",
        "\n",
        "2. **Viết các phương thức getter và setter:**\n",
        "   - Viết phương thức getter để truy cập giá trị của thuộc tính `_password`.\n",
        "   - Viết phương thức setter để thay đổi giá trị của thuộc tính `_password`.\n",
        "\n",
        "3. **Bài tập nâng cao:**\n",
        "   - Thêm phương thức `validate_password` để kiểm tra tính hợp lệ của mật khẩu mới trước khi thay đổi. Mật khẩu hợp lệ phải có ít nhất 8 ký tự, bao gồm cả chữ cái và số.\n",
        "   - Ghi đè phương thức `__str__` để không hiển thị thuộc tính `_password` khi in đối tượng `Person`."
      ]
    },
    {
      "cell_type": "code",
      "execution_count": null,
      "id": "a42d68d5",
      "metadata": {
        "id": "a42d68d5",
        "outputId": "bda9b49e-df30-4ee6-e2d0-1bc087574430"
      },
      "outputs": [
        {
          "name": "stdout",
          "output_type": "stream",
          "text": [
            "Mật khẩu ban đầu: mypassword\n",
            "Mật khẩu sau khi thay đổi: newpassword123\n",
            "Person(name=Pham Thi E, age=28)\n"
          ]
        }
      ],
      "source": [
        "class Person:\n",
        "    def __init__(self, name, age, password):\n",
        "        self.name = name\n",
        "        self.age = age\n",
        "        self._password = password\n",
        "\n",
        "    def get_password(self):\n",
        "        return self._password\n",
        "\n",
        "    def set_password(self, new_password):\n",
        "        if self.validate_password(new_password):\n",
        "            self._password = new_password\n",
        "        else:\n",
        "            print(\"Mật khẩu không hợp lệ. Mật khẩu phải có ít nhất 8 ký tự, bao gồm cả chữ cái và số.\")\n",
        "\n",
        "    def validate_password(self, password):\n",
        "        if len(password) < 8:\n",
        "            return False\n",
        "        has_letter = any(char.isalpha() for char in password)\n",
        "        has_digit = any(char.isdigit() for char in password)\n",
        "        return has_letter and has_digit\n",
        "\n",
        "    def introduce(self):\n",
        "        print(f\"Xin chào, tôi tên là {self.name} và tôi {self.age} tuổi.\")\n",
        "\n",
        "    def __str__(self):\n",
        "        return f\"Person(name={self.name}, age={self.age})\"\n",
        "\n",
        "# Tạo đối tượng và thử sử dụng getter, setter, và validate_password\n",
        "person = Person(\"Pham Thi E\", 28, \"mypassword\")\n",
        "print(\"Mật khẩu ban đầu:\", person.get_password())\n",
        "person.set_password(\"newpassword123\")\n",
        "print(\"Mật khẩu sau khi thay đổi:\", person.get_password())\n",
        "print(person)"
      ]
    },
    {
      "cell_type": "markdown",
      "id": "9687114b",
      "metadata": {
        "id": "9687114b"
      },
      "source": [
        "# 5. Abstraction\n",
        "### Bài 5.1: Trừu tượng\n",
        "\n",
        "1. **Tạo lớp trừu tượng `Shape`:**\n",
        "   - Tạo một lớp trừu tượng có tên là `Shape`.\n",
        "   - Lớp này có một phương thức trừu tượng `area` để tính diện tích.\n",
        "\n",
        "2. **Tạo các lớp con `Circle` và `Rectangle`:**\n",
        "   - Tạo lớp `Circle` kế thừa từ lớp `Shape` với thuộc tính `radius` (bán kính).\n",
        "   - Ghi đè phương thức `area` trong lớp `Circle` để tính diện tích hình tròn.\n",
        "   - Tạo lớp `Rectangle` kế thừa từ lớp `Shape` với các thuộc tính `width` (chiều rộng) và `height` (chiều cao).\n",
        "   - Ghi đè phương thức `area` trong lớp `Rectangle` để tính diện tích hình chữ nhật.\n",
        "\n",
        "3. **Viết hàm tính tổng diện tích:**\n",
        "   - Viết một hàm nhận vào một danh sách các đối tượng `Shape` và trả về tổng diện tích của tất cả các hình trong danh sách."
      ]
    },
    {
      "cell_type": "code",
      "execution_count": null,
      "id": "23dd2286",
      "metadata": {
        "id": "23dd2286",
        "outputId": "296a6808-5690-4974-cf69-5d1fb582749c"
      },
      "outputs": [
        {
          "name": "stdout",
          "output_type": "stream",
          "text": [
            "Tổng diện tích: 130.76\n"
          ]
        }
      ],
      "source": [
        "from abc import ABC, abstractmethod\n",
        "\n",
        "class Shape(ABC):\n",
        "    @abstractmethod\n",
        "    def area(self):\n",
        "        pass\n",
        "\n",
        "class Circle(Shape):\n",
        "    def __init__(self, radius):\n",
        "        self.radius = radius\n",
        "\n",
        "    def area(self):\n",
        "        return 3.14 * self.radius * self.radius\n",
        "\n",
        "class Rectangle(Shape):\n",
        "    def __init__(self, width, height):\n",
        "        self.width = width\n",
        "        self.height = height\n",
        "\n",
        "    def area(self):\n",
        "        return self.width * self.height\n",
        "\n",
        "def total_area(shapes):\n",
        "    total = 0\n",
        "    for shape in shapes:\n",
        "        total += shape.area()\n",
        "    return total\n",
        "\n",
        "# Tạo danh sách các đối tượng Shape\n",
        "shapes = [\n",
        "    Circle(5),\n",
        "    Rectangle(4, 6),\n",
        "    Circle(3)\n",
        "]\n",
        "\n",
        "# Tính tổng diện tích\n",
        "print(\"Tổng diện tích:\", total_area(shapes))"
      ]
    },
    {
      "cell_type": "markdown",
      "id": "6efbe086",
      "metadata": {
        "id": "6efbe086"
      },
      "source": [
        "### Bài 5.2: Trừu tượng nâng cao\n",
        "\n",
        "1. **Tạo lớp con `Triangle`:**\n",
        "   - Tạo lớp `Triangle` kế thừa từ lớp `Shape` với các thuộc tính `base` (đáy) và `height` (chiều cao).\n",
        "   - Ghi đè phương thức `area` trong lớp `Triangle` để tính diện tích hình tam giác.\n",
        "\n",
        "2. **Tạo lớp con `Square`:**\n",
        "   - Tạo lớp `Square` kế thừa từ lớp `Shape` với thuộc tính `side` (cạnh).\n",
        "   - Ghi đè phương thức `area` trong lớp `Square` để tính diện tích hình vuông.\n",
        "\n",
        "3. **Viết hàm tính tổng diện tích nâng cao:**\n",
        "   - Viết một hàm nhận vào một danh sách các đối tượng `Shape` (bao gồm `Circle`, `Rectangle`, `Triangle`, và `Square`) và trả về tổng diện tích của tất cả các hình trong danh sách."
      ]
    },
    {
      "cell_type": "code",
      "execution_count": null,
      "id": "37a73ca6",
      "metadata": {
        "id": "37a73ca6",
        "outputId": "4c239ad2-28e9-4db5-d17f-2621bd7e8397"
      },
      "outputs": [
        {
          "name": "stdout",
          "output_type": "stream",
          "text": [
            "Tổng diện tích: 124.5\n"
          ]
        }
      ],
      "source": [
        "from abc import ABC, abstractmethod\n",
        "\n",
        "class Shape(ABC):\n",
        "    @abstractmethod\n",
        "    def area(self):\n",
        "        pass\n",
        "\n",
        "class Circle(Shape):\n",
        "    def __init__(self, radius):\n",
        "        self.radius = radius\n",
        "\n",
        "    def area(self):\n",
        "        return 3.14 * self.radius * self.radius\n",
        "\n",
        "class Rectangle(Shape):\n",
        "    def __init__(self, width, height):\n",
        "        self.width = width\n",
        "        self.height = height\n",
        "\n",
        "    def area(self):\n",
        "        return self.width * self.height\n",
        "\n",
        "class Triangle(Shape):\n",
        "    def __init__(self, base, height):\n",
        "        self.base = base\n",
        "        self.height = height\n",
        "\n",
        "    def area(self):\n",
        "        return 0.5 * self.base * self.height\n",
        "\n",
        "class Square(Shape):\n",
        "    def __init__(self, side):\n",
        "        self.side = side\n",
        "\n",
        "    def area(self):\n",
        "        return self.side * self.side\n",
        "\n",
        "def total_area(shapes):\n",
        "    total = 0\n",
        "    for shape in shapes:\n",
        "        total += shape.area()\n",
        "    return total\n",
        "\n",
        "# Tạo danh sách các đối tượng Shape\n",
        "shapes = [\n",
        "    Circle(5),\n",
        "    Rectangle(4, 6),\n",
        "    Triangle(3, 4),\n",
        "    Square(4)\n",
        "]\n",
        "\n",
        "# Tính tổng diện tích\n",
        "print(\"Tổng diện tích:\", total_area(shapes))"
      ]
    },
    {
      "cell_type": "markdown",
      "id": "2ae02977",
      "metadata": {
        "id": "2ae02977"
      },
      "source": [
        "# 6. Final Exercise"
      ]
    },
    {
      "cell_type": "markdown",
      "id": "7e747107",
      "metadata": {
        "id": "7e747107"
      },
      "source": [
        "### Bài tập tổng hợp: Áp dụng cả 4 thuộc tính OOP\n",
        "\n",
        "1. **Tạo lớp trừu tượng `Employee`:**\n",
        "   - Tạo một lớp trừu tượng có tên là `Employee`.\n",
        "   - Lớp này có các thuộc tính: `name` (tên) và `salary` (lương).\n",
        "   - Lớp này có một phương thức trừu tượng `calculate_bonus` để tính tiền thưởng.\n",
        "\n",
        "2. **Tạo các lớp con `Manager` và `Developer`:**\n",
        "   - Tạo lớp `Manager` kế thừa từ lớp `Employee` với thuộc tính `department` (phòng ban).\n",
        "   - Ghi đè phương thức `calculate_bonus` trong lớp `Manager` để tính tiền thưởng dựa trên lương và một hệ số cố định.\n",
        "   - Tạo lớp `Developer` kế thừa từ lớp `Employee` với thuộc tính `programming_language` (ngôn ngữ lập trình).\n",
        "   - Ghi đè phương thức `calculate_bonus` trong lớp `Developer` để tính tiền thưởng dựa trên lương và một hệ số cố định.\n",
        "\n",
        "3. **Đóng gói dữ liệu:**\n",
        "   - Thêm thuộc tính riêng tư `_bonus` vào lớp `Employee`.\n",
        "   - Viết các phương thức getter và setter để truy cập và thay đổi giá trị của thuộc tính `_bonus`.\n",
        "\n",
        "4. **Đa hình:**\n",
        "   - Viết một hàm nhận vào một danh sách các đối tượng `Employee` và gọi phương thức `calculate_bonus` của từng đối tượng trong danh sách.\n",
        "   - Hàm này sẽ trả về tổng tiền thưởng của tất cả các nhân viên trong danh sách."
      ]
    },
    {
      "cell_type": "code",
      "execution_count": null,
      "id": "cbc1cd13",
      "metadata": {
        "id": "cbc1cd13",
        "outputId": "03c0a837-28c6-43d6-aedb-e5b0052d73c8"
      },
      "outputs": [
        {
          "name": "stdout",
          "output_type": "stream",
          "text": [
            "Tổng tiền thưởng: 2800.0\n"
          ]
        }
      ],
      "source": [
        "from abc import ABC, abstractmethod\n",
        "\n",
        "class Employee(ABC):\n",
        "    def __init__(self, name, salary):\n",
        "        self.name = name\n",
        "        self.salary = salary\n",
        "        self._bonus = 0\n",
        "\n",
        "    @abstractmethod\n",
        "    def calculate_bonus(self):\n",
        "        pass\n",
        "\n",
        "    def get_bonus(self):\n",
        "        return self._bonus\n",
        "\n",
        "    def set_bonus(self, bonus):\n",
        "        self._bonus = bonus\n",
        "\n",
        "class Manager(Employee):\n",
        "    def __init__(self, name, salary, department):\n",
        "        super().__init__(name, salary)\n",
        "        self.department = department\n",
        "\n",
        "    def calculate_bonus(self):\n",
        "        self._bonus = self.salary * 0.1\n",
        "        return self._bonus\n",
        "\n",
        "class Developer(Employee):\n",
        "    def __init__(self, name, salary, programming_language):\n",
        "        super().__init__(name, salary)\n",
        "        self.programming_language = programming_language\n",
        "\n",
        "    def calculate_bonus(self):\n",
        "        self._bonus = self.salary * 0.2\n",
        "        return self._bonus\n",
        "\n",
        "def total_bonus(employees):\n",
        "    total = 0\n",
        "    for employee in employees:\n",
        "        total += employee.calculate_bonus()\n",
        "    return total\n",
        "\n",
        "# Tạo danh sách các đối tượng Employee\n",
        "employees = [\n",
        "    Manager(\"Nguyen Van A\", 5000, \"Sales\"),\n",
        "    Developer(\"Le Thi B\", 4000, \"Python\"),\n",
        "    Manager(\"Tran Van C\", 6000, \"HR\"),\n",
        "    Developer(\"Pham Thi D\", 4500, \"Java\")\n",
        "]\n",
        "\n",
        "# Tính tổng tiền thưởng\n",
        "print(\"Tổng tiền thưởng:\", total_bonus(employees))"
      ]
    },
    {
      "cell_type": "markdown",
      "id": "552083a4",
      "metadata": {
        "id": "552083a4"
      },
      "source": [
        "# 7. Do by yourself hehe"
      ]
    },
    {
      "cell_type": "markdown",
      "id": "13cff8b3",
      "metadata": {
        "id": "13cff8b3"
      },
      "source": [
        "### Bài tập 7.1: Hệ thống Quản Lý Nhân Viên\n",
        "\n",
        "Hãy viết một chương trình quản lý nhân viên trong công ty. Công ty có nhiều loại nhân viên khác nhau (nhân viên văn phòng, nhân viên kỹ thuật, nhân viên bán hàng). Mỗi loại nhân viên có cách tính lương riêng, nhưng tất cả đều có các thông tin chung như họ tên, mã nhân viên, và lương.\n",
        "\n",
        "1. **Đóng gói:**\n",
        "   - Các thuộc tính của nhân viên phải được bảo vệ (private/protected) và chỉ có thể truy cập thông qua phương thức getter/setter.\n",
        "\n",
        "2. **Kế thừa:**\n",
        "   - Tạo lớp cha `Employee` và các lớp con kế thừa (`OfficeEmployee`, `TechnicalEmployee`, `SalesEmployee`).\n",
        "\n",
        "3. **Đa hình:**\n",
        "   - Mỗi lớp con sẽ định nghĩa lại phương thức `calculate_salary()` để tính lương theo cách riêng.\n",
        "\n",
        "4. **Trừu tượng hóa:**\n",
        "   - Lớp cha `Employee` sẽ là một lớp trừu tượng."
      ]
    },
    {
      "cell_type": "markdown",
      "id": "4c9d7e27",
      "metadata": {
        "id": "4c9d7e27"
      },
      "source": [
        "### Bài tập 7.2: Hệ thống Quản Lý Nhân Viên\n",
        "\n",
        "Hãy viết một chương trình quản lý nhân viên trong công ty. Công ty có nhiều loại nhân viên khác nhau (nhân viên văn phòng, nhân viên kỹ thuật, nhân viên bán hàng). Mỗi loại nhân viên có cách tính lương riêng, nhưng tất cả đều có các thông tin chung như họ tên, mã nhân viên, và lương.\n",
        "\n",
        "1. **Đóng gói:**\n",
        "   - Các thuộc tính của nhân viên phải được bảo vệ (private/protected) và chỉ có thể truy cập thông qua phương thức getter/setter.\n",
        "   - Thêm thuộc tính riêng tư `_bonus` để lưu trữ tiền thưởng của nhân viên và các phương thức getter/setter tương ứng.\n",
        "\n",
        "2. **Kế thừa:**\n",
        "   - Tạo lớp cha `Employee` và các lớp con kế thừa (`OfficeEmployee`, `TechnicalEmployee`, `SalesEmployee`).\n",
        "   - Mỗi lớp con sẽ có thêm các thuộc tính đặc trưng riêng (ví dụ: `OfficeEmployee` có thuộc tính `office_hours`, `TechnicalEmployee` có thuộc tính `projects`, `SalesEmployee` có thuộc tính `sales`).\n",
        "\n",
        "3. **Đa hình:**\n",
        "   - Mỗi lớp con sẽ định nghĩa lại phương thức `calculate_salary()` để tính lương theo cách riêng.\n",
        "   - Thêm phương thức `calculate_bonus()` để tính tiền thưởng dựa trên hiệu suất làm việc của từng loại nhân viên.\n",
        "\n",
        "4. **Trừu tượng hóa:**\n",
        "   - Lớp cha `Employee` sẽ là một lớp trừu tượng với các phương thức trừu tượng `calculate_salary()` và `calculate_bonus()`.\n",
        "\n",
        "5. **Bài tập nâng cao:**\n",
        "   - Viết một hàm nhận vào một danh sách các đối tượng `Employee` và trả về tổng lương và tổng tiền thưởng của tất cả các nhân viên trong danh sách.\n",
        "   - Viết một hàm để tìm kiếm nhân viên theo mã nhân viên và trả về thông tin của nhân viên đó.\n",
        "   - Viết một hàm để sắp xếp danh sách nhân viên theo lương từ cao đến thấp."
      ]
    },
    {
      "cell_type": "markdown",
      "id": "ab1933e1",
      "metadata": {
        "id": "ab1933e1"
      },
      "source": [
        "### Bài tập 7.3: Hệ thống Quản Lý Thư Viện\n",
        "\n",
        "Hãy viết một chương trình quản lý thư viện. Thư viện có nhiều loại tài liệu khác nhau (sách, tạp chí, báo). Mỗi loại tài liệu có các thuộc tính và phương thức riêng, nhưng tất cả đều có các thông tin chung như mã tài liệu, tên tài liệu, và nhà xuất bản.\n",
        "\n",
        "1. **Đóng gói:**\n",
        "   - Các thuộc tính của tài liệu phải được bảo vệ (private/protected) và chỉ có thể truy cập thông qua phương thức getter/setter.\n",
        "   - Thêm thuộc tính riêng tư `_availability` để lưu trữ trạng thái sẵn có của tài liệu và các phương thức getter/setter tương ứng.\n",
        "\n",
        "2. **Kế thừa:**\n",
        "   - Tạo lớp cha `Document` và các lớp con kế thừa (`Book`, `Magazine`, `Newspaper`).\n",
        "   - Mỗi lớp con sẽ có thêm các thuộc tính đặc trưng riêng (ví dụ: `Book` có thuộc tính `author` và `number_of_pages`, `Magazine` có thuộc tính `issue_number` và `month`, `Newspaper` có thuộc tính `date`).\n",
        "\n",
        "3. **Đa hình:**\n",
        "   - Mỗi lớp con sẽ định nghĩa lại phương thức `display_info()` để hiển thị thông tin chi tiết của tài liệu.\n",
        "   - Thêm phương thức `check_availability()` để kiểm tra trạng thái sẵn có của tài liệu.\n",
        "\n",
        "4. **Trừu tượng hóa:**\n",
        "   - Lớp cha `Document` sẽ là một lớp trừu tượng với các phương thức trừu tượng `display_info()` và `check_availability()`.\n",
        "\n",
        "5. **Bài tập nâng cao:**\n",
        "   - Viết một hàm nhận vào một danh sách các đối tượng `Document` và hiển thị thông tin của tất cả các tài liệu trong danh sách.\n",
        "   - Viết một hàm để tìm kiếm tài liệu theo mã tài liệu và trả về thông tin của tài liệu đó.\n",
        "   - Viết một hàm để sắp xếp danh sách tài liệu theo tên tài liệu theo thứ tự bảng chữ cái.\n",
        "   - Viết một hàm để kiểm tra và cập nhật trạng thái sẵn có của tài liệu khi tài liệu được mượn hoặc trả lại."
      ]
    },
    {
      "cell_type": "markdown",
      "id": "0d522b42",
      "metadata": {
        "id": "0d522b42"
      },
      "source": []
    }
  ],
  "metadata": {
    "kernelspec": {
      "display_name": "Multimodal_RumorDetection",
      "language": "python",
      "name": "multimodal_rumordetection"
    },
    "language_info": {
      "codemirror_mode": {
        "name": "ipython",
        "version": 3
      },
      "file_extension": ".py",
      "mimetype": "text/x-python",
      "name": "python",
      "nbconvert_exporter": "python",
      "pygments_lexer": "ipython3",
      "version": "3.8.19"
    },
    "colab": {
      "provenance": [],
      "include_colab_link": true
    }
  },
  "nbformat": 4,
  "nbformat_minor": 5
}