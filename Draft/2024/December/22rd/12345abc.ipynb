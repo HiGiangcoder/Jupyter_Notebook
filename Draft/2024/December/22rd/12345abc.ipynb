{
 "cells": [
  {
   "cell_type": "markdown",
   "id": "2ad21caa-4561-46a0-8b4e-3e752d413240",
   "metadata": {},
   "source": [
    "print(3, 5)\n"
   ]
  },
  {
   "cell_type": "markdown",
   "id": "7dca10c5-7be8-44bf-afbd-b105c1382ed3",
   "metadata": {},
   "source": [
    "# abalkj\n",
    "## asjlkdfj\n",
    "- saldkfj\n",
    "- l;djf\n",
    "- 3 .sdjfl\n",
    "    - ljfd\n",
    "    - sjlf\n",
    "          \n"
   ]
  },
  {
   "cell_type": "code",
   "execution_count": 1,
   "id": "67111a6d-f9fe-487d-a989-d269397e4811",
   "metadata": {},
   "outputs": [
    {
     "name": "stdout",
     "output_type": "stream",
     "text": [
      "0 1 2 3 4 5 6 7 8 9 "
     ]
    }
   ],
   "source": [
    "for i in range(10):\n",
    "    print(i, end=' ')"
   ]
  }
 ],
 "metadata": {
  "kernelspec": {
   "display_name": "Python 3 (ipykernel)",
   "language": "python",
   "name": "python3"
  },
  "language_info": {
   "codemirror_mode": {
    "name": "ipython",
    "version": 3
   },
   "file_extension": ".py",
   "mimetype": "text/x-python",
   "name": "python",
   "nbconvert_exporter": "python",
   "pygments_lexer": "ipython3",
   "version": "3.11.5"
  }
 },
 "nbformat": 4,
 "nbformat_minor": 5
}
