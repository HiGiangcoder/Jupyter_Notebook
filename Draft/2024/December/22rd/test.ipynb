{
 "cells": [
  {
   "cell_type": "code",
   "execution_count": null,
   "id": "53b26bbc-598d-4ae9-93ee-5a2dcdb6244c",
   "metadata": {},
   "outputs": [],
   "source": []
  }
 ],
 "metadata": {
  "kernelspec": {
   "display_name": "",
   "name": ""
  },
  "language_info": {
   "name": ""
  }
 },
 "nbformat": 4,
 "nbformat_minor": 5
}
